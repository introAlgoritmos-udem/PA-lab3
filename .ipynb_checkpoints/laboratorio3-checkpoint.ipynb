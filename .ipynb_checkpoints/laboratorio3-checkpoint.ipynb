{
 "cells": [
  {
   "cell_type": "markdown",
   "id": "d31a5234",
   "metadata": {},
   "source": [
    "[![Open In Colab](https://colab.research.google.com/assets/colab-badge.svg)](https://colab.research.google.com/github/introAlgoritmos-udem/PA-lab2/blob/main/laboratorio2.ipynb)"
   ]
  },
  {
   "cell_type": "markdown",
   "id": "cb0efaf4",
   "metadata": {},
   "source": [
    "# Introducción a la logica de programación"
   ]
  },
  {
   "cell_type": "markdown",
   "id": "5b4a1ed7",
   "metadata": {},
   "source": [
    "## Objetivos\n",
    "1. Plantear algoritmos básicos mediante el uso de diagramas de flujo.\n",
    "2. Aprender a solucionar problemas que impliquen la toma de decisiones.\n",
    "3. Codificar programas en Python que hagan uso de la estructura secuencial"
   ]
  },
  {
   "cell_type": "markdown",
   "id": "8e4960b9",
   "metadata": {},
   "source": [
    "## Ejercicios de clase"
   ]
  },
  {
   "cell_type": "markdown",
   "id": "9821d0e2",
   "metadata": {},
   "source": [
    "1. Se desea obtener la nomina semanal (salario neto) – de los empleados de una empresa cuyo trabajo se paga por horas y del siguiente modo:\n",
    "  * Las horas inferiores o iguales a 35 horas (normales) se pagan a una tarifa que se debe introducir por teclado igual que el numero de horas y el nombre del trabajador.\n",
    "  * Las horas superiores a 35 se pagaran como extra a un precio de 1.5 horas normales. \n",
    "  * Los impuestos a deducir a los trabajadores varían en función de su sueldo mensual:\n",
    "    * Si sueldo <= 20000, libre de impuestos.\n",
    "    * Los siguientes 15000 al 20%.\n",
    "    * El resto al 30%."
   ]
  },
  {
   "attachments": {},
   "cell_type": "markdown",
   "id": "cf9c9eb8",
   "metadata": {},
   "source": [
    "#### Solución\n",
    "\n",
    "**Datos de entrada**: \n",
    "* Nombre.\n",
    "* Horas.\n",
    "* Tarifa hora.\n",
    "  \n",
    "**Datos de salida**: \n",
    "* Salario neto.\n",
    "* Nombre\n",
    "* Impuestos.\n",
    "* Salario bruto.\n",
    "\n",
    "**Definición de variables**:\n",
    "* **Entrada/salida**:\n",
    "  * Nombre: ```nom```\n",
    "  * Hora: ```hr```\n",
    "  * Tarifa hora: ```tarifa``` \n",
    "  * Salario neto: ```sNeto```\n",
    "  * Impuestos: ```imp```\n",
    "  * Salario bruto: ```sBruto```\n",
    "\n",
    "**Proceso**\n",
    "1. Solicitar datos de entrada (nom, hr, tarifa).\n",
    "2. Calcular el salario bruto de acuerdo a las horas trabajadas\n",
    "3. Calcular impuestos\n",
    "4. Calculo del salario neto\n",
    "5. Mostrar datos de salida (nom, sBruto, imp, sNeto)\n",
    "\n",
    "**Casos de test**\n",
    "Si el programa esta bien, deberá dar los siguientes valores:\n",
    "\n",
    "|Horas|Valor hora|Salario bruto|Impuestos|Salario neto|\n",
    "|---|---|---|---|---|\n",
    "|15|1000|15000|0|15000|\n",
    "|30|1000|30000|2000|28000|\n",
    "|40|1000|42500|5250|37250|\n",
    "\n",
    "**Diagrama de flujo**\n",
    "\n",
    "![solucion](solucion_ejemplo.png)"
   ]
  },
  {
   "cell_type": "code",
   "execution_count": null,
   "id": "b2a33819",
   "metadata": {},
   "outputs": [],
   "source": [
    "# 1. Entrada de datos (nom, hr, tarifa).\n",
    "nom = input(\"Digite su nombre: \")\n",
    "hr = float(input(\"Digite el numero de horas trabajadas: \"))\n",
    "tarifa = float(input(\"Digite el valor de la hora: \"))\n",
    "\n",
    "# 2. Calcular el salario bruto de acuerdo a las horas trabajadas\n",
    "if hr <= 35:\n",
    "    sbruto = hr*tarifa\n",
    "else:\n",
    "    sbruto = hr*tarifa + (hr - 35)*1.5*tarifa\n",
    "\n",
    "# 3. Calcular los impuestos   \n",
    "if sbruto <= 20000:\n",
    "    imp = 0\n",
    "else:\n",
    "    if sbruto <= 35000:\n",
    "        imp = (sBruto - 20000)*0.2\n",
    "    else:\n",
    "        imp = 15000*0.2 + (sBruto - 35000)*0.3\n",
    "        \n",
    "# 4. Calculo del salario neto\n",
    "sNeto = sBruto - imp\n",
    "\n",
    "# 5. Despliegue de los datos de salida (nom, sBruto, imp, sNeto)\n",
    "print(\"++++++++++++++++++++++++++++ Colilla de pago ++++++++++++++++++++++++++++\")\n",
    "print(\"- Nombre: \", nom, sep = \"\")\n",
    "print(\"- Salario bruto: $\", sBruto, sep = \"\")\n",
    "print(\"- Impuestos: $\", imp, sep = \"\")\n",
    "print(\"- Salario neto: $\", sNeto, sep = \"\")\n",
    "print(\"+++++++++++++++++++++++++++++++++++++++++++++++++++++++++++++++++++++++++\")"
   ]
  },
  {
   "cell_type": "markdown",
   "id": "c756d6ec",
   "metadata": {},
   "source": [
    "## Ejercicios de refuezo"
   ]
  },
  {
   "cell_type": "markdown",
   "id": "cca9bc1c",
   "metadata": {},
   "source": [
    "### Ejercicios individuales\n"
   ]
  },
  {
   "attachments": {},
   "cell_type": "markdown",
   "id": "52e32fca",
   "metadata": {},
   "source": [
    "1. Una frutería ofrece las manzanas con descuento según la siguiente tabla:\n",
    "\n",
    "\n",
    "| # de manzanas compradas | % de descuento |\n",
    "| --- | --- |\n",
    "| 0 - 2 | 0% |\n",
    "| 3 - 5 | 10%|\n",
    "|6 - 10 | 15%|\n",
    "|11 en adelante | 20% |\n",
    "\n",
    "Determinar cuanto pagara una persona que compre manzanas en esa frutería, dado el precio por unidad."
   ]
  },
  {
   "cell_type": "code",
   "execution_count": 1,
   "id": "ea427bb1",
   "metadata": {},
   "outputs": [],
   "source": [
    "# Digite aqui su solución"
   ]
  },
  {
   "attachments": {},
   "cell_type": "markdown",
   "id": "33febdc3",
   "metadata": {},
   "source": [
    "2. Se tienen cuatro esferas (A, B, C, D) de las cuales se sabe que tres son de igual peso y una diferente. Elaborar un algoritmo que determine cuál es la esfera diferente."
   ]
  },
  {
   "cell_type": "code",
   "execution_count": 2,
   "id": "b6cf1131",
   "metadata": {},
   "outputs": [],
   "source": [
    "# Digite aqui su solución"
   ]
  },
  {
   "attachments": {},
   "cell_type": "markdown",
   "id": "21395aff",
   "metadata": {},
   "source": [
    "3. Diseñar un algoritmo que lea tres números A, B y C y visualice en pantalla el valor mas grande. Se supone que los 3 valores son diferentes."
   ]
  },
  {
   "cell_type": "code",
   "execution_count": 3,
   "id": "9560e52d",
   "metadata": {},
   "outputs": [],
   "source": [
    "# Digite aqui su solución"
   ]
  },
  {
   "attachments": {},
   "cell_type": "markdown",
   "id": "6bdebcf9",
   "metadata": {},
   "source": [
    "4. En el minimercado de Apu hay una máquina dispensadora que tiene 4 productos etiquetados con los números 1, 2, 3 y 4, cada uno con un valor de 500, 800, 300 y 900, respectivamente. Defina un algoritmo que lea el número de producto que ingresa el usuario y que le muestre su precio."
   ]
  },
  {
   "cell_type": "code",
   "execution_count": 4,
   "id": "f0664ead",
   "metadata": {},
   "outputs": [],
   "source": [
    "# Digite aqui su solución"
   ]
  },
  {
   "attachments": {},
   "cell_type": "markdown",
   "id": "241bbe26",
   "metadata": {},
   "source": [
    "5. Una empresa tiene cuatro escalas de salario numeradas consecutivamente del 1 al 4, además, tiene un programa de incentivos de acuerdo a la categoría y si el número de unidades producidas es mayor de 50. Si está en la categoría 1 se le da un incremento de sueldo equivalente al 5% de su salario, si está en la 2 del 7%, en la 3 del 10% y en la 4 del 15%; esto es por cada empleado. Se tiene la siguiente información: nombres, salario mensual, categoría y número de unidades producidas. "
   ]
  },
  {
   "cell_type": "code",
   "execution_count": 13,
   "id": "91d06353",
   "metadata": {},
   "outputs": [],
   "source": [
    "# Digite aqui su solución "
   ]
  },
  {
   "cell_type": "markdown",
   "id": "8586597d",
   "metadata": {},
   "source": [
    "### Ejercicios por parejas"
   ]
  },
  {
   "cell_type": "markdown",
   "id": "232db2ea",
   "metadata": {},
   "source": [
    "1. Mortimer Life Insurance Company desea realizar un programa que acepte el número de ID de un vendedor y el número de pólizas vendidas en el último mes, y despliegue los datos sólo si el vendedor tiene un alto rendimiento (que se da cuando una persona que vende más de 25 pólizas en el mes)."
   ]
  },
  {
   "cell_type": "code",
   "execution_count": 5,
   "id": "e2508308",
   "metadata": {},
   "outputs": [],
   "source": [
    "# Digite aqui su solución "
   ]
  },
  {
   "cell_type": "markdown",
   "id": "4e58daa3",
   "metadata": {},
   "source": [
    "2. Dash Cell Phone Company cobra a sus clientes una tarifa básica de 5 por mes por enviar mensajes de texto. Las tarifas adicionales son como sigue:\n",
    "  * Los primeros 60 mensajes por mes, sin importar la longitud del mensaje, se incluyen en la factura básica.\n",
    "  * Se cobran cinco centavos adicionales por cada mensaje de texto después del mensaje 60, hasta 180 mensajes.\n",
    "  * Se cobran 10 centavos adicionales por cada mensaje de texto después del mensaje 180.\n",
    "  * Los impuestos federales, estatales y locales suman un total de 12% de cada factura.\n",
    "\n",
    "  Diseñe un programa que acepte los siguientes datos sobre la factura de un cliente: \n",
    "  * Código de área donde se encuentra (tres dígitos)\n",
    "  * Número de teléfono (siete dígitos)\n",
    "  * Número de mensajes de texto enviados.\n",
    "\n",
    "  Y Despliegue todos los datos, incluyendo la factura mensual final tanto antes como después de agregar los impuestos."
   ]
  },
  {
   "cell_type": "code",
   "execution_count": null,
   "id": "6bb910c6",
   "metadata": {},
   "outputs": [],
   "source": [
    "# Digite aqui su solución "
   ]
  },
  {
   "cell_type": "markdown",
   "id": "c2f414dd",
   "metadata": {},
   "source": [
    "3. The Barking Lot es una guardería para perros la cual lo ha contratado a usted para que desarrolle un programa que acepte como datos el ID del propietario de un perro, y el nombre, raza, edad y peso de este último y despliegue una factura que contenga todos los datos de entrada al igual que la tarifa semanal de la guardería, la cual es de 55 para perros con menos de 7 kilogramos, 75 para perros de 7 a 14 kilogramos inclusive, 105 para perros de 14.1 a 37 kilogramos inclusive, y 125 para perros con más de 37 kilogramos."
   ]
  },
  {
   "cell_type": "code",
   "execution_count": 6,
   "id": "08ac5a16",
   "metadata": {},
   "outputs": [],
   "source": [
    "# Digite aqui su solución "
   ]
  },
  {
   "cell_type": "markdown",
   "id": "6e67421f",
   "metadata": {},
   "source": [
    "4. Mark Daniels es un carpintero que crea letreros personalizados para casas. Desea una aplicación para calcular el precio de cualquier letrero que pida un cliente, con base en los siguientes factores:\n",
    "  * El cargo mínimo para todos los letreros es 30.\n",
    "  * Si el letrero se hace de roble, agregue 15. No se agrega ningún cargo por pino.\n",
    "  * Las primeras seis letras o números se incluyen en el cargo mínimo; hay un cargo de 3 por cada carácter adicional.\n",
    "  * Los caracteres blancos o negros están incluidos en el cargo mínimo; hay un cargo adicional de 12 para letras laminadas en oro.\n",
    "  \n",
    "  Diseñe un diagrama de flujo que cumpla que calcule el precio y que acepte como datos el número de pedido, el nombre del cliente, el tipo de madera, el número de caracteres y el color de los caracteres y despliegue todos los datos introducidos y el precio final para el letrero."
   ]
  },
  {
   "cell_type": "code",
   "execution_count": 7,
   "id": "0b3284ae",
   "metadata": {},
   "outputs": [],
   "source": [
    "# Digite aqui su solución "
   ]
  }
 ],
 "metadata": {
  "kernelspec": {
   "display_name": "Python 3",
   "language": "python",
   "name": "python3"
  },
  "language_info": {
   "codemirror_mode": {
    "name": "ipython",
    "version": 3
   },
   "file_extension": ".py",
   "mimetype": "text/x-python",
   "name": "python",
   "nbconvert_exporter": "python",
   "pygments_lexer": "ipython3",
   "version": "3.8.8"
  }
 },
 "nbformat": 4,
 "nbformat_minor": 5
}
